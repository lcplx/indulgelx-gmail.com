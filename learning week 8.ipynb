{
 "cells": [
  {
   "cell_type": "code",
   "execution_count": 6,
   "metadata": {},
   "outputs": [],
   "source": [
    "fin =open('words.txt')\n",
    "alphabet='abcdefghijklmnopqrstuvwxyz'\n",
    "\n",
    "def histogram(s):\n",
    "     d = dict()\n",
    "     for c in s:\n",
    "          if c not in d:\n",
    "               d[c] = 1\n",
    "          else:\n",
    "               d[c] += 1\n",
    "     return d \n",
    "def missing_letters(target):\n",
    "    #call histogram\n",
    "    d=histogram(target)\n",
    "    res=[]\n",
    "    #direct use global variable\n",
    "    for key in alphabet:\n",
    "        if key not in d:\n",
    "            res.append(key)\n",
    "    return ''.join(res)"
   ]
  },
  {
   "cell_type": "code",
   "execution_count": 15,
   "metadata": {},
   "outputs": [
    {
     "name": "stdout",
     "output_type": "stream",
     "text": [
      "asdfasdfbbnndd\n",
      "bookkeeper\n",
      "bookkeepers\n",
      "bookkeeping\n",
      "bookkeepings\n"
     ]
    }
   ],
   "source": [
    "def threepair(word):\n",
    "    if len(word)<6:\n",
    "        return False\n",
    "    for i, val in enumerate(word):\n",
    "        if len(word)>=i+6:\n",
    "            if word[i]==word[i+1] and word[i+2]==word[i+3] and word[i+4]==word[i+5]:\n",
    "                print(word)\n",
    "        \n",
    "threepair('asdfasdfbbnndd')\n",
    "fin =open('words.txt')\n",
    "for line in fin:\n",
    "    word=line.strip()\n",
    "    if threepair(word):\n",
    "        print (word)\n"
   ]
  },
  {
   "cell_type": "code",
   "execution_count": 7,
   "metadata": {},
   "outputs": [
    {
     "data": {
      "text/plain": [
       "[(112177, 'q'),\n",
       " (112062, 'j'),\n",
       " (111118, 'x'),\n",
       " (110358, 'z'),\n",
       " (105541, 'w'),\n",
       " (104917, 'v'),\n",
       " (104831, 'k'),\n",
       " (102532, 'f'),\n",
       " (100668, 'y'),\n",
       " (97504, 'b'),\n",
       " (94713, 'h'),\n",
       " (91335, 'm'),\n",
       " (90840, 'p'),\n",
       " (88830, 'g'),\n",
       " (84934, 'u'),\n",
       " (83343, 'c'),\n",
       " (83161, 'd'),\n",
       " (73676, 'l'),\n",
       " (69152, 'o'),\n",
       " (66530, 't'),\n",
       " (64127, 'n'),\n",
       " (58908, 'r'),\n",
       " (57196, 'a'),\n",
       " (53495, 'i'),\n",
       " (49006, 's'),\n",
       " (37641, 'e')]"
      ]
     },
     "execution_count": 7,
     "metadata": {},
     "output_type": "execute_result"
    }
   ],
   "source": [
    "# countere=0\n",
    "# counternoe=0\n",
    "# d={}\n",
    "# for line in fin:\n",
    "#     word=line.strip()\n",
    "#     miss=missing_letters(word)\n",
    "#     for let in miss:\n",
    "#         d[let]=d.get(let,0)+1\n",
    "# d1={}\n",
    "# for item in d.items():\n",
    "#     value,key=item[1],item[0]\n",
    "#     d1[value]=key\n",
    "\n",
    "# liss=sorted(d1.items(),reverse=True)\n",
    "# liss\n",
    "\n",
    "\n"
   ]
  },
  {
   "cell_type": "code",
   "execution_count": 2,
   "metadata": {},
   "outputs": [],
   "source": [
    "def has_palindrome(i,start,length):\n",
    "    tmp=str(i)[start:start+length]\n",
    "    return tmp==tmp[::-1]\n",
    "def check(i):\n",
    "    return (has_palindrome(i,2,4) and\n",
    "            has_palindrome(i+1,1,5) and \n",
    "            has_palindrome(i+2,1,4) and \n",
    "            has_palindrome(i+3,0,6))"
   ]
  },
  {
   "cell_type": "code",
   "execution_count": 3,
   "metadata": {},
   "outputs": [
    {
     "name": "stdout",
     "output_type": "stream",
     "text": [
      "198888\n",
      "199999\n"
     ]
    }
   ],
   "source": [
    "def check_all():\n",
    "    i =100000\n",
    "    while i <999999:\n",
    "        if check(i):\n",
    "            print(i)\n",
    "        i+=1\n",
    "check_all()        "
   ]
  },
  {
   "cell_type": "code",
   "execution_count": 77,
   "metadata": {},
   "outputs": [
    {
     "name": "stdout",
     "output_type": "stream",
     "text": [
      "23\n",
      "1221\n",
      "2332\n",
      "3443\n",
      "4554\n",
      "5665\n",
      "6776\n",
      "7887\n",
      "8998\n"
     ]
    },
    {
     "data": {
      "text/plain": [
       "{-9: 9,\n",
       " 0: 9,\n",
       " 9: 8,\n",
       " 18: 7,\n",
       " 27: 6,\n",
       " 36: 5,\n",
       " 45: 4,\n",
       " 54: 3,\n",
       " 63: 2,\n",
       " 72: 1,\n",
       " -18: 8,\n",
       " -27: 7,\n",
       " -36: 6,\n",
       " -45: 5,\n",
       " -54: 4,\n",
       " -63: 3,\n",
       " -72: 2,\n",
       " -81: 1}"
      ]
     },
     "execution_count": 77,
     "metadata": {},
     "output_type": "execute_result"
    }
   ],
   "source": [
    "def is_reverse(me,mom):\n",
    "    tmp=str(me)\n",
    "    tmp1=str(mom)\n",
    "    return tmp[0]==tmp1[1] and tmp[1]==tmp1[0]\n",
    "    \n",
    "reverse(42)\n",
    "\n",
    "def check(age,gap):\n",
    "    count=0\n",
    "    while gap<99:\n",
    "        while age<99:\n",
    "#             if count==8:\n",
    "#                 break\n",
    "            if is_reverse(age,age+gap):\n",
    "                count+=1\n",
    "                print(age,age+gap,gap)\n",
    "            age+=1\n",
    "        gap+=1\n",
    "check(10,1)\n",
    "def is_match(num):\n",
    "    tmp=str(num)\n",
    "    return tmp[0]==tmp[-1] and tmp[1]==tmp[-2]\n",
    "is_match(3113)\n",
    "print(('3123')[-2:])\n",
    "\n",
    "i=1000\n",
    "def getDiff(num):\n",
    "    tmp=str(num)\n",
    "    res=int(tmp[-2:])-int(tmp[0:2])\n",
    "    return res\n",
    "d={}\n",
    "while i<10000:\n",
    "    diff=0\n",
    "    if is_match(i):\n",
    "        tmp=getDiff(i)\n",
    "        if tmp==9:\n",
    "            print (i)\n",
    "        d[tmp]=d.get(tmp,0)+1\n",
    "    i+=1\n",
    "d\n"
   ]
  },
  {
   "cell_type": "code",
   "execution_count": 22,
   "metadata": {},
   "outputs": [
    {
     "data": {
      "text/plain": [
       "True"
      ]
     },
     "execution_count": 22,
     "metadata": {},
     "output_type": "execute_result"
    }
   ],
   "source": [
    "def check(age,years):\n",
    "#     age will increment and reverse as same for 8 times\n",
    "# max 99 start from 10\n",
    "    return str(age+years)[0]==str(age+years)[::-1][1] and str(age+years)[1]==str(age+years)[::-1][0]\n",
    "check(14,1)   "
   ]
  },
  {
   "cell_type": "code",
   "execution_count": null,
   "metadata": {},
   "outputs": [],
   "source": []
  }
 ],
 "metadata": {
  "kernelspec": {
   "display_name": "Python 3",
   "language": "python",
   "name": "python3"
  },
  "language_info": {
   "codemirror_mode": {
    "name": "ipython",
    "version": 3
   },
   "file_extension": ".py",
   "mimetype": "text/x-python",
   "name": "python",
   "nbconvert_exporter": "python",
   "pygments_lexer": "ipython3",
   "version": "3.7.4"
  }
 },
 "nbformat": 4,
 "nbformat_minor": 2
}
