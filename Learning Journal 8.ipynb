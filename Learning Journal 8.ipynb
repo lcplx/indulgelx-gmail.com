{
 "cells": [
  {
   "cell_type": "code",
   "execution_count": 3,
   "metadata": {},
   "outputs": [],
   "source": [
    "# origianl invert dictionary from learning journal 7\n",
    "def invert_dict(d):\n",
    "     inverse = dict()\n",
    "     for key in d:\n",
    "          val = tuple(d[key]) # list is not hashable so change to tuple for key\n",
    "          for sub in val: # loop again since sub is list item\n",
    "              if sub not in inverse:\n",
    "                   inverse[sub] = key\n",
    "              else:\n",
    "                   inverse[sub].append(key)\n",
    "     return inverse \n",
    "\n",
    "# read txt file into dictionary\n",
    "def readtext():\n",
    "    d={}\n",
    "    with open('dictionary.txt','r') as fin:\n",
    "        for line in fin:\n",
    "            key,value=line.strip().split(':')\n",
    "            d[key]=list(value.split(','))\n",
    "        return d\n",
    "# read new dictionary to new file\n",
    "def writetext(d,filename):\n",
    "    with open (filename,'w') as fout:\n",
    "        for key,value in d.items():\n",
    "            tmp='%s:%s\\n'%(key,value)\n",
    "            fout.write(tmp)\n",
    "            \n",
    "def test():\n",
    "    inverted=invert_dict(readtext())\n",
    "    writetext(inverted,'dictionary_copy.txt')    \n",
    "test()\n",
    "\n",
    "#  description for encode\n",
    "#  I use a format of key:value to use colon to to encode my text file\n",
    "#  for multiple values like abc,def i serperate them with comma.\n",
    "\n",
    "#  and for inverted dictionary , using the same way to write as '%s:%s\\n'%(key,value) for easy handling\n",
    "\n"
   ]
  },
  {
   "cell_type": "code",
   "execution_count": 2,
   "metadata": {},
   "outputs": [],
   "source": [
    "\n",
    "\n",
    "# # include the following in your Learning Journal submission: \n",
    "\n",
    "# The input file for your original dictionary (with at least six items).\n",
    "# The Python program to read from a file, invert the dictionary, and write to a different file.\n",
    "# The output file for your inverted dictionary.\n",
    "# # A description of how you chose to encode the original dictionary and the inverted dictionary in text files.\n"
   ]
  },
  {
   "cell_type": "code",
   "execution_count": 10,
   "metadata": {},
   "outputs": [
    {
     "data": {
      "text/plain": [
       "'C:\\\\Users\\\\liang\\\\Documents\\\\jupyter_work_space'"
      ]
     },
     "execution_count": 10,
     "metadata": {},
     "output_type": "execute_result"
    }
   ],
   "source": [
    "import os\n",
    "cwd = os.getcwd()\n",
    "os.listdir(cwd)\n",
    "os.path.exists(cwd)\n",
    "os.path.isfile(cwd)\n",
    "os.path.abspath(cwd)"
   ]
  },
  {
   "cell_type": "code",
   "execution_count": 5,
   "metadata": {},
   "outputs": [
    {
     "ename": "TypeError",
     "evalue": "not all arguments converted during string formatting",
     "output_type": "error",
     "traceback": [
      "\u001b[1;31m---------------------------------------------------------------------------\u001b[0m",
      "\u001b[1;31mTypeError\u001b[0m                                 Traceback (most recent call last)",
      "\u001b[1;32m<ipython-input-5-abe31981b2dc>\u001b[0m in \u001b[0;36m<module>\u001b[1;34m\u001b[0m\n\u001b[1;32m----> 1\u001b[1;33m \u001b[1;34m'%g'\u001b[0m \u001b[1;33m%\u001b[0m \u001b[1;33m(\u001b[0m\u001b[1;36m0\u001b[0m\u001b[1;33m,\u001b[0m\u001b[1;36m1\u001b[0m\u001b[1;33m)\u001b[0m\u001b[1;33m\u001b[0m\u001b[1;33m\u001b[0m\u001b[0m\n\u001b[0m",
      "\u001b[1;31mTypeError\u001b[0m: not all arguments converted during string formatting"
     ]
    }
   ],
   "source": [
    "'%g' % (0,1)"
   ]
  },
  {
   "cell_type": "code",
   "execution_count": 8,
   "metadata": {},
   "outputs": [
    {
     "data": {
      "text/plain": [
       "'1.1'"
      ]
     },
     "execution_count": 8,
     "metadata": {},
     "output_type": "execute_result"
    }
   ],
   "source": [
    " '%g' % 1.1"
   ]
  },
  {
   "cell_type": "code",
   "execution_count": 11,
   "metadata": {},
   "outputs": [
    {
     "data": {
      "text/plain": [
       "'0'"
      ]
     },
     "execution_count": 11,
     "metadata": {},
     "output_type": "execute_result"
    }
   ],
   "source": [
    " '%d' % (0.1)"
   ]
  },
  {
   "cell_type": "code",
   "execution_count": 17,
   "metadata": {},
   "outputs": [
    {
     "data": {
      "text/plain": [
       "1"
      ]
     },
     "execution_count": 17,
     "metadata": {},
     "output_type": "execute_result"
    }
   ],
   "source": [
    "open('word.txt','w').write(str(3))"
   ]
  },
  {
   "cell_type": "code",
   "execution_count": null,
   "metadata": {},
   "outputs": [],
   "source": []
  }
 ],
 "metadata": {
  "kernelspec": {
   "display_name": "Python 3",
   "language": "python",
   "name": "python3"
  },
  "language_info": {
   "codemirror_mode": {
    "name": "ipython",
    "version": 3
   },
   "file_extension": ".py",
   "mimetype": "text/x-python",
   "name": "python",
   "nbconvert_exporter": "python",
   "pygments_lexer": "ipython3",
   "version": "3.7.4"
  }
 },
 "nbformat": 4,
 "nbformat_minor": 2
}
