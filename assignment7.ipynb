{
 "cells": [
  {
   "cell_type": "markdown",
   "metadata": {},
   "source": [
    "## common code"
   ]
  },
  {
   "cell_type": "code",
   "execution_count": 13,
   "metadata": {},
   "outputs": [],
   "source": [
    "alphabet = \"abcdefghijklmnopqrstuvwxyz\"   \n",
    "\n",
    "test_dups = [\"zzz\",\"dog\",\"bookkeeper\",\"subdermatoglyphic\",\"subdermatoglyphics\"] \n",
    "\n",
    "test_miss = [\"zzz\",\"subdermatoglyphic\",\"the quick brown fox jumps over the lazy dog\"] \n",
    "\n",
    "def histogram(s):\n",
    "     d = dict()\n",
    "     for c in s:\n",
    "          if c not in d:\n",
    "               d[c] = 1\n",
    "          else:\n",
    "               d[c] += 1\n",
    "     return d \n"
   ]
  },
  {
   "cell_type": "markdown",
   "metadata": {},
   "source": [
    "# part 1"
   ]
  },
  {
   "cell_type": "code",
   "execution_count": 14,
   "metadata": {},
   "outputs": [
    {
     "name": "stdout",
     "output_type": "stream",
     "text": [
      "zzz has duplicates\n",
      "dog has no duplicates\n",
      "bookkeeper has duplicates\n",
      "subdermatoglyphic has no duplicates\n",
      "subdermatoglyphics has duplicates\n"
     ]
    }
   ],
   "source": [
    "def has_duplicates(seq):\n",
    "    #call histogram\n",
    "    d=histogram(seq)\n",
    "    # useing tuple receive dict() if count >1 has duplicate\n",
    "    for key,val in d.items():\n",
    "        if val>1:\n",
    "            return True\n",
    "    return False\n",
    "#Test program running   \n",
    "for data in test_dups:\n",
    "    if has_duplicates(data):\n",
    "        print (data,'has duplicates')\n",
    "    else:\n",
    "        print (data,'has no duplicates')\n",
    "# Output below   "
   ]
  },
  {
   "cell_type": "markdown",
   "metadata": {},
   "source": [
    "## part 2 "
   ]
  },
  {
   "cell_type": "code",
   "execution_count": 18,
   "metadata": {},
   "outputs": [
    {
     "name": "stdout",
     "output_type": "stream",
     "text": [
      "zzz\tis missing letters\tabcdefghijklmnopqrstuvwxy\n",
      "subdermatoglyphic\tis missing letters\tfjknqvwxz\n",
      "the quick brown fox jumps over the lazy dog\tuses all the letters\t\n"
     ]
    }
   ],
   "source": [
    "alphabet='abcdefghijklmnopqrstuvwxyz'\n",
    "def missing_letters(target):\n",
    "    #call histogram\n",
    "    d=histogram(target)\n",
    "    res=[]\n",
    "    #direct use global variable\n",
    "    global alphabet\n",
    "    for key in alphabet:\n",
    "        if key not in d:\n",
    "            res.append(key)\n",
    "    return ''.join(res)\n",
    "#Test program running  \n",
    "for data in test_miss:\n",
    "    res=missing_letters(data)\n",
    "    if len(res)>0:\n",
    "        print (data,'is missing letters',res,sep='\\t')\n",
    "    else:\n",
    "        print (data,'uses all the letters',res,sep='\\t')\n",
    "    \n",
    "# Output below    "
   ]
  },
  {
   "cell_type": "code",
   "execution_count": 22,
   "metadata": {},
   "outputs": [
    {
     "data": {
      "text/plain": [
       "True"
      ]
     },
     "execution_count": 22,
     "metadata": {},
     "output_type": "execute_result"
    }
   ],
   "source": [
    "(0, 1, 5, 2) > (0, 1.0, 4, 3.1)"
   ]
  },
  {
   "cell_type": "code",
   "execution_count": 24,
   "metadata": {},
   "outputs": [
    {
     "data": {
      "text/plain": [
       "[1, 4, 2, 3, 5]"
      ]
     },
     "execution_count": 24,
     "metadata": {},
     "output_type": "execute_result"
    }
   ],
   "source": [
    "mylist = [1, 4, 2, 3]\n",
    "mylist.append(5)\n",
    "mylist"
   ]
  },
  {
   "cell_type": "code",
   "execution_count": 25,
   "metadata": {},
   "outputs": [
    {
     "name": "stdout",
     "output_type": "stream",
     "text": [
      "(1, 2, 2, 3)\n"
     ]
    }
   ],
   "source": [
    "my_tup = (3, 2, 1, 2)\n",
    "print(tuple(sorted(my_tup)))"
   ]
  },
  {
   "cell_type": "code",
   "execution_count": 26,
   "metadata": {},
   "outputs": [
    {
     "name": "stdout",
     "output_type": "stream",
     "text": [
      "None\n"
     ]
    }
   ],
   "source": [
    "my_list = [3, 2, 1]\n",
    "print(my_list.sort())"
   ]
  },
  {
   "cell_type": "code",
   "execution_count": 27,
   "metadata": {},
   "outputs": [
    {
     "name": "stdout",
     "output_type": "stream",
     "text": [
      "help!\n"
     ]
    }
   ],
   "source": [
    "print(dict().get(\"no\", \"help!\"))"
   ]
  },
  {
   "cell_type": "code",
   "execution_count": 28,
   "metadata": {},
   "outputs": [
    {
     "ename": "NameError",
     "evalue": "name 'd' is not defined",
     "output_type": "error",
     "traceback": [
      "\u001b[1;31m---------------------------------------------------------------------------\u001b[0m",
      "\u001b[1;31mNameError\u001b[0m                                 Traceback (most recent call last)",
      "\u001b[1;32m<ipython-input-28-4e9d54d20e23>\u001b[0m in \u001b[0;36m<module>\u001b[1;34m\u001b[0m\n\u001b[0;32m      1\u001b[0m \u001b[0mresult\u001b[0m \u001b[1;33m=\u001b[0m \u001b[0mdict\u001b[0m\u001b[1;33m(\u001b[0m\u001b[1;33m)\u001b[0m\u001b[1;33m\u001b[0m\u001b[1;33m\u001b[0m\u001b[0m\n\u001b[1;32m----> 2\u001b[1;33m \u001b[1;32mfor\u001b[0m \u001b[0mkey\u001b[0m \u001b[1;32min\u001b[0m \u001b[0md\u001b[0m\u001b[1;33m:\u001b[0m\u001b[1;33m\u001b[0m\u001b[1;33m\u001b[0m\u001b[0m\n\u001b[0m\u001b[0;32m      3\u001b[0m     \u001b[0mval\u001b[0m \u001b[1;33m=\u001b[0m \u001b[0md\u001b[0m\u001b[1;33m[\u001b[0m\u001b[0mkey\u001b[0m\u001b[1;33m]\u001b[0m\u001b[1;33m\u001b[0m\u001b[1;33m\u001b[0m\u001b[0m\n\u001b[0;32m      4\u001b[0m     \u001b[1;32mif\u001b[0m \u001b[0mval\u001b[0m \u001b[1;32mnot\u001b[0m \u001b[1;32min\u001b[0m \u001b[0mresult\u001b[0m\u001b[1;33m:\u001b[0m\u001b[1;33m\u001b[0m\u001b[1;33m\u001b[0m\u001b[0m\n\u001b[0;32m      5\u001b[0m         \u001b[0mresult\u001b[0m\u001b[1;33m[\u001b[0m\u001b[0mval\u001b[0m\u001b[1;33m]\u001b[0m \u001b[1;33m=\u001b[0m \u001b[1;33m[\u001b[0m\u001b[0mkey\u001b[0m\u001b[1;33m]\u001b[0m\u001b[1;33m\u001b[0m\u001b[1;33m\u001b[0m\u001b[0m\n",
      "\u001b[1;31mNameError\u001b[0m: name 'd' is not defined"
     ]
    }
   ],
   "source": [
    "result = dict()\n",
    "for key in d:\n",
    "    val = d[key]\n",
    "    if val not in result:\n",
    "        result[val] = [key]\n",
    "    else:\n",
    "        result[val].append(key)"
   ]
  },
  {
   "cell_type": "code",
   "execution_count": null,
   "metadata": {},
   "outputs": [],
   "source": []
  }
 ],
 "metadata": {
  "kernelspec": {
   "display_name": "Python 3",
   "language": "python",
   "name": "python3"
  },
  "language_info": {
   "codemirror_mode": {
    "name": "ipython",
    "version": 3
   },
   "file_extension": ".py",
   "mimetype": "text/x-python",
   "name": "python",
   "nbconvert_exporter": "python",
   "pygments_lexer": "ipython3",
   "version": "3.7.4"
  }
 },
 "nbformat": 4,
 "nbformat_minor": 2
}
