{
 "cells": [
  {
   "cell_type": "markdown",
   "metadata": {},
   "source": [
    "## common code"
   ]
  },
  {
   "cell_type": "code",
   "execution_count": 13,
   "metadata": {},
   "outputs": [],
   "source": [
    "alphabet = \"abcdefghijklmnopqrstuvwxyz\"   \n",
    "\n",
    "test_dups = [\"zzz\",\"dog\",\"bookkeeper\",\"subdermatoglyphic\",\"subdermatoglyphics\"] \n",
    "\n",
    "test_miss = [\"zzz\",\"subdermatoglyphic\",\"the quick brown fox jumps over the lazy dog\"] \n",
    "\n",
    "def histogram(s):\n",
    "     d = dict()\n",
    "     for c in s:\n",
    "          if c not in d:\n",
    "               d[c] = 1\n",
    "          else:\n",
    "               d[c] += 1\n",
    "     return d \n"
   ]
  },
  {
   "cell_type": "markdown",
   "metadata": {},
   "source": [
    "# part 1"
   ]
  },
  {
   "cell_type": "code",
   "execution_count": 14,
   "metadata": {},
   "outputs": [
    {
     "name": "stdout",
     "output_type": "stream",
     "text": [
      "zzz has duplicates\n",
      "dog has no duplicates\n",
      "bookkeeper has duplicates\n",
      "subdermatoglyphic has no duplicates\n",
      "subdermatoglyphics has duplicates\n"
     ]
    }
   ],
   "source": [
    "def has_duplicates(seq):\n",
    "    #call histogram\n",
    "    d=histogram(seq)\n",
    "    # useing tuple receive dict() if count >1 has duplicate\n",
    "    for key,val in d.items():\n",
    "        if val>1:\n",
    "            return True\n",
    "    return False\n",
    "#Test program running   \n",
    "for data in test_dups:\n",
    "    if has_duplicates(data):\n",
    "        print (data,'has duplicates')\n",
    "    else:\n",
    "        print (data,'has no duplicates')\n",
    "# Output below   "
   ]
  },
  {
   "cell_type": "markdown",
   "metadata": {},
   "source": [
    "## part 2 "
   ]
  },
  {
   "cell_type": "code",
   "execution_count": 18,
   "metadata": {},
   "outputs": [
    {
     "name": "stdout",
     "output_type": "stream",
     "text": [
      "zzz\tis missing letters\tabcdefghijklmnopqrstuvwxy\n",
      "subdermatoglyphic\tis missing letters\tfjknqvwxz\n",
      "the quick brown fox jumps over the lazy dog\tuses all the letters\t\n"
     ]
    }
   ],
   "source": [
    "alphabet='abcdefghijklmnopqrstuvwxyz'\n",
    "def missing_letters(target):\n",
    "    #call histogram\n",
    "    d=histogram(target)\n",
    "    res=[]\n",
    "    #direct use global variable\n",
    "    global alphabet\n",
    "    for key in alphabet:\n",
    "        if key not in d:\n",
    "            res.append(key)\n",
    "    return ''.join(res)\n",
    "#Test program running  \n",
    "for data in test_miss:\n",
    "    res=missing_letters(data)\n",
    "    if len(res)>0:\n",
    "        print (data,'is missing letters',res,sep='\\t')\n",
    "    else:\n",
    "        print (data,'uses all the letters',res,sep='\\t')\n",
    "    \n",
    "# Output below    "
   ]
  },
  {
   "cell_type": "code",
   "execution_count": null,
   "metadata": {},
   "outputs": [],
   "source": []
  },
  {
   "cell_type": "code",
   "execution_count": null,
   "metadata": {},
   "outputs": [],
   "source": []
  },
  {
   "cell_type": "code",
   "execution_count": null,
   "metadata": {},
   "outputs": [],
   "source": []
  },
  {
   "cell_type": "code",
   "execution_count": null,
   "metadata": {},
   "outputs": [],
   "source": []
  }
 ],
 "metadata": {
  "kernelspec": {
   "display_name": "Python 3",
   "language": "python",
   "name": "python3"
  },
  "language_info": {
   "codemirror_mode": {
    "name": "ipython",
    "version": 3
   },
   "file_extension": ".py",
   "mimetype": "text/x-python",
   "name": "python",
   "nbconvert_exporter": "python",
   "pygments_lexer": "ipython3",
   "version": "3.7.4"
  }
 },
 "nbformat": 4,
 "nbformat_minor": 2
}
