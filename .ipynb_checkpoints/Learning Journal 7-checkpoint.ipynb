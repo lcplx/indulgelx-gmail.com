{
 "cells": [
  {
   "cell_type": "code",
   "execution_count": 29,
   "metadata": {},
   "outputs": [],
   "source": [
    "# Original Dict \n",
    "d={}\n",
    "\n",
    "def add(key,lst):\n",
    "    global d\n",
    "    d[key]=lst\n",
    "# store my hobbies, phone number and parent birthday \n",
    "add('my hobbies',['basketball','music','food'])\n",
    "add('phone',['97115555','97662222'])\n",
    "add(('mom','dad'),['1965 oct 12','1960 nov 4'])\n",
    "   \n",
    "# d    \n",
    "    "
   ]
  },
  {
   "cell_type": "code",
   "execution_count": 39,
   "metadata": {},
   "outputs": [
    {
     "name": "stdout",
     "output_type": "stream",
     "text": [
      " original dict ---------\n",
      " {'my hobbies': ['basketball', 'music', 'food'], 'phone': ['97115555', '97662222'], ('mom', 'dad'): ['1965 oct 12', '1960 nov 4']} \n",
      "\n",
      " inverted dict ---------\n",
      " {'basketball': 'my hobbies', 'music': 'my hobbies', 'food': 'my hobbies', '97115555': 'phone', '97662222': 'phone', '1965 oct 12': ('mom', 'dad'), '1960 nov 4': ('mom', 'dad')}\n"
     ]
    }
   ],
   "source": [
    "def invert_dict(d):\n",
    "     inverse = dict()\n",
    "     for key in d:\n",
    "          val = tuple(d[key]) # list is not hashable so change to tuple for key\n",
    "          for sub in val: # loop again since sub is list item\n",
    "              if sub not in inverse:\n",
    "                   inverse[sub] = key\n",
    "              else:\n",
    "                   inverse[sub].append(key)\n",
    "     return inverse \n",
    "inverted=invert_dict(d)\n",
    "print (' original dict ---------\\n', d,'\\n' )\n",
    "print (' inverted dict ---------\\n',inverted)"
   ]
  },
  {
   "cell_type": "code",
   "execution_count": null,
   "metadata": {},
   "outputs": [],
   "source": [
    "# original dictionary # store my hobbies, phone number and parent birthday \n",
    "# inverted can do the similar thing . the meaning is not as concise as the original dictionary"
   ]
  }
 ],
 "metadata": {
  "kernelspec": {
   "display_name": "Python 3",
   "language": "python",
   "name": "python3"
  },
  "language_info": {
   "codemirror_mode": {
    "name": "ipython",
    "version": 3
   },
   "file_extension": ".py",
   "mimetype": "text/x-python",
   "name": "python",
   "nbconvert_exporter": "python",
   "pygments_lexer": "ipython3",
   "version": "3.7.4"
  }
 },
 "nbformat": 4,
 "nbformat_minor": 2
}
