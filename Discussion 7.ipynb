{
 "cells": [
  {
   "cell_type": "code",
   "execution_count": 1,
   "metadata": {},
   "outputs": [],
   "source": [
    "# Describe how tuples can be useful with loops over lists and dictionaries, and give Python code examples.\n",
    "# Create your own code examples. Do not copy them from the textbook or any other source. \n",
    "\n",
    "# Your descriptions and examples should include the following: \n",
    "# the zip function, the enumerate function, and the items method. \n",
    "\n",
    "\n"
   ]
  },
  {
   "cell_type": "code",
   "execution_count": 2,
   "metadata": {},
   "outputs": [],
   "source": [
    "#tuple as return value when doing looping iteration"
   ]
  },
  {
   "cell_type": "code",
   "execution_count": 9,
   "metadata": {},
   "outputs": [
    {
     "name": "stdout",
     "output_type": "stream",
     "text": [
      "1 b <class 'tuple'>\n",
      "2 b <class 'tuple'>\n",
      "3 c <class 'tuple'>\n",
      "4 c <class 'tuple'>\n",
      "0 (1, 'b', 'a')\n",
      "1 (2, 'b', 'b')\n",
      "2 (3, 'c', 'c')\n",
      "1 b\n",
      "2 b\n",
      "3 c\n",
      "4 c\n"
     ]
    }
   ],
   "source": [
    "lst=[1,2,3,4]\n",
    "str1='bbccdd'# create two sequence for later use\n",
    "\n",
    "#tuple v1,v2 can be use as variable for iterable since zip return list tuple object \n",
    "for v1,v2 in zip(lst,str1):\n",
    "    print(v1,v2,type((v1,v2)))\n",
    "\n",
    "# enumerate create index with iterable tuple can use to receive the value from enumerate as tup    \n",
    "for index,tup in enumerate(zip(lst,str1,'abc')):\n",
    "    print(index,tup)\n",
    "    \n",
    "#for dictionary items can return a iterable list of tuples of key value pair can use tuple to reveive the result\n",
    "d=dict(zip(lst,str1))\n",
    "for v1,v2 in d.items():\n",
    "    print(v1,v2)\n",
    "\n"
   ]
  },
  {
   "cell_type": "code",
   "execution_count": 4,
   "metadata": {},
   "outputs": [
    {
     "name": "stdout",
     "output_type": "stream",
     "text": [
      "job lily 1234412424\n",
      "bob hellen 5152124124\n",
      "jack luise 1241245435\n"
     ]
    }
   ],
   "source": [
    "# tuple also can be key for dictionary since its immutable\n",
    "family=['job','bob','jack']\n",
    "name='lily','hellen','luise'\n",
    "tuk=zip(zip(family,name),(1234412424,5152124124,1241245435))\n",
    "dd=dict(tuk)\n",
    "\n",
    "for tup1,tup2 in dd:\n",
    "    print(tup1,tup2,dd[tup1,tup2])"
   ]
  },
  {
   "cell_type": "code",
   "execution_count": null,
   "metadata": {},
   "outputs": [],
   "source": []
  }
 ],
 "metadata": {
  "kernelspec": {
   "display_name": "Python 3",
   "language": "python",
   "name": "python3"
  },
  "language_info": {
   "codemirror_mode": {
    "name": "ipython",
    "version": 3
   },
   "file_extension": ".py",
   "mimetype": "text/x-python",
   "name": "python",
   "nbconvert_exporter": "python",
   "pygments_lexer": "ipython3",
   "version": "3.7.4"
  }
 },
 "nbformat": 4,
 "nbformat_minor": 2
}
