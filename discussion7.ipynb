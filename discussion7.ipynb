{
 "cells": [
  {
   "cell_type": "code",
   "execution_count": null,
   "metadata": {},
   "outputs": [],
   "source": []
  },
  {
   "cell_type": "code",
   "execution_count": null,
   "metadata": {},
   "outputs": [],
   "source": [
    "# Describe how tuples can be useful with loops over lists and dictionaries, and give Python code examples.\n",
    "# Create your own code examples. Do not copy them from the textbook or any other source. \n",
    "\n",
    "# Your descriptions and examples should include the following: \n",
    "# the zip function, the enumerate function, and the items method. "
   ]
  },
  {
   "cell_type": "code",
   "execution_count": 26,
   "metadata": {},
   "outputs": [
    {
     "data": {
      "text/plain": [
       "['tom@pp.com', 'jack@yy.com']"
      ]
     },
     "execution_count": 26,
     "metadata": {},
     "output_type": "execute_result"
    }
   ],
   "source": [
    "# multiple assignment when looping list\n",
    "tom='tom@pp.com'\n",
    "jack='jack@yy.com'\n",
    "\n",
    "lst=[]\n",
    "lst.append(tom)\n",
    "lst.append(jack)\n",
    "lst"
   ]
  },
  {
   "cell_type": "code",
   "execution_count": 29,
   "metadata": {},
   "outputs": [
    {
     "name": "stdout",
     "output_type": "stream",
     "text": [
      "tom pp.com\n",
      "jack yy.com\n"
     ]
    }
   ],
   "source": [
    "for s in lst:\n",
    "    name,domain=s.split('@')\n",
    "    print(name,domain)\n"
   ]
  },
  {
   "cell_type": "code",
   "execution_count": 32,
   "metadata": {},
   "outputs": [],
   "source": [
    "t=divmod(7,3)\n",
    "t\n",
    "\n",
    "def min_max(t):\n",
    "    return min(t), max(t)"
   ]
  },
  {
   "cell_type": "code",
   "execution_count": 40,
   "metadata": {},
   "outputs": [
    {
     "name": "stdout",
     "output_type": "stream",
     "text": [
      "<class 'tuple'>\n"
     ]
    },
    {
     "data": {
      "text/plain": [
       "78"
      ]
     },
     "execution_count": 40,
     "metadata": {},
     "output_type": "execute_result"
    }
   ],
   "source": [
    "# variable length augment tuple\n",
    "def sumall(*arg):\n",
    "    print(type(arg))\n",
    "    t=sum(arg)\n",
    "    return t\n",
    "sumall(1,2,3,4,5,1,56,6)"
   ]
  },
  {
   "cell_type": "code",
   "execution_count": 3,
   "metadata": {},
   "outputs": [],
   "source": [
    "#Python's zip() function is defined as zip(*iterables) . \n",
    "# The function takes in iterables as arguments and returns an iterator. \n",
    "# This iterator generates a series of tuples containing elements from each iterable. \n",
    "# zip() can accept any type of iterable, such as files, lists, tuples, dictionaries, sets, and so on.Oct 2, 2019"
   ]
  },
  {
   "cell_type": "code",
   "execution_count": 56,
   "metadata": {},
   "outputs": [
    {
     "name": "stdout",
     "output_type": "stream",
     "text": [
      "<class 'zip'>\n",
      "('y', 1)\n",
      "('o', 2)\n",
      "('u', 3)\n",
      "('1', 4)\n",
      "('2', 5)\n",
      "y 1\n",
      "o 2\n",
      "u 3\n",
      "1 4\n",
      "2 5\n",
      "0 a\n",
      "1 b\n",
      "2 c\n",
      "(0, 'a') <class 'tuple'>\n",
      "(1, 'b') <class 'tuple'>\n",
      "(2, 'c') <class 'tuple'>\n"
     ]
    }
   ],
   "source": [
    "# zip return a list of tuples where each tuple contain one element from each sequence\n",
    "s='you12'\n",
    "m=1,2,3,4,5\n",
    "lst=zip(s,m) # zip object is iterator not list\n",
    "\n",
    "print(type(lst))\n",
    "for t in lst:\n",
    "    print(t)\n",
    "\n",
    "lst=list(zip(s,m))\n",
    "\n",
    "# tuple can use to receive list loop of tuples\n",
    "for a,b in lst:\n",
    "    print(a,b)\n",
    "\n",
    "\n",
    "# parallel traversing\n",
    "def has_matched(t1,t2):\n",
    "    for x,y in zip(t1,t2):\n",
    "        if x==y:\n",
    "            return True\n",
    "    return False\n",
    "# enumerate \n",
    "for index, element in enumerate('abc'):\n",
    "    print(index, element)\n",
    "for element in enumerate('abc'):\n",
    "    print( element,type(element))"
   ]
  },
  {
   "cell_type": "markdown",
   "metadata": {},
   "source": [
    "# Dictionaries with Tuples\n"
   ]
  },
  {
   "cell_type": "code",
   "execution_count": 64,
   "metadata": {},
   "outputs": [
    {
     "name": "stdout",
     "output_type": "stream",
     "text": [
      "<class 'dict_items'>\n",
      "a 0\n",
      "b 1\n",
      "c 2\n"
     ]
    },
    {
     "data": {
      "text/plain": [
       "{'a': 0, 'b': 1, 'c': 2, 'd': 3}"
      ]
     },
     "execution_count": 64,
     "metadata": {},
     "output_type": "execute_result"
    }
   ],
   "source": [
    "d = {'a':0, 'b':1, 'c':2}\n",
    "t=d.items()\n",
    "print(type(t))\n",
    "for key,value in d.items():\n",
    "    print(key,value)\n",
    "t = [('a', 0), ('c', 2), ('b', 1)]\n",
    "d=dict(t)\n",
    "d\n",
    "d=dict(zip('abcd',range(4)))\n",
    "d"
   ]
  },
  {
   "cell_type": "code",
   "execution_count": 71,
   "metadata": {},
   "outputs": [
    {
     "data": {
      "text/plain": [
       "'list of (3 int, float, 2 str, 2 list of int, int)'"
      ]
     },
     "execution_count": 71,
     "metadata": {},
     "output_type": "execute_result"
    }
   ],
   "source": [
    "from structshape import structshape\n",
    "t = [1, 2, 3]\n",
    "structshape(t)\n",
    "\n",
    "t2 = [[1,2], [3,4], [5,6]]\n",
    "structshape(t2)\n",
    "\n",
    "t3 = [1, 2, 3, 4.0, '5', '6', [7], [8], 9]\n",
    "structshape(t3)"
   ]
  },
  {
   "cell_type": "code",
   "execution_count": 4,
   "metadata": {},
   "outputs": [
    {
     "data": {
      "text/plain": [
       "'314'"
      ]
     },
     "execution_count": 4,
     "metadata": {},
     "output_type": "execute_result"
    }
   ],
   "source": [
    "s=\"123\"\n",
    "s=\"314\"\n",
    "s"
   ]
  },
  {
   "cell_type": "code",
   "execution_count": 7,
   "metadata": {},
   "outputs": [],
   "source": [
    "s=\"B\"+s[1:]"
   ]
  },
  {
   "cell_type": "code",
   "execution_count": 8,
   "metadata": {},
   "outputs": [
    {
     "data": {
      "text/plain": [
       "'B14'"
      ]
     },
     "execution_count": 8,
     "metadata": {},
     "output_type": "execute_result"
    }
   ],
   "source": [
    "s\n"
   ]
  },
  {
   "cell_type": "code",
   "execution_count": 10,
   "metadata": {},
   "outputs": [],
   "source": [
    "tt=1,3,4,5"
   ]
  },
  {
   "cell_type": "code",
   "execution_count": 11,
   "metadata": {},
   "outputs": [
    {
     "data": {
      "text/plain": [
       "(1, 3, 4, 5)"
      ]
     },
     "execution_count": 11,
     "metadata": {},
     "output_type": "execute_result"
    }
   ],
   "source": [
    "tt\n"
   ]
  },
  {
   "cell_type": "code",
   "execution_count": 15,
   "metadata": {},
   "outputs": [],
   "source": [
    "tt=tt[1:]"
   ]
  },
  {
   "cell_type": "code",
   "execution_count": 16,
   "metadata": {},
   "outputs": [
    {
     "data": {
      "text/plain": [
       "(3, 4, 5)"
      ]
     },
     "execution_count": 16,
     "metadata": {},
     "output_type": "execute_result"
    }
   ],
   "source": [
    "tt\n"
   ]
  },
  {
   "cell_type": "code",
   "execution_count": 17,
   "metadata": {},
   "outputs": [],
   "source": [
    "tt=('a',)+tt[1:]"
   ]
  },
  {
   "cell_type": "code",
   "execution_count": 18,
   "metadata": {},
   "outputs": [
    {
     "data": {
      "text/plain": [
       "('a', 4, 5)"
      ]
     },
     "execution_count": 18,
     "metadata": {},
     "output_type": "execute_result"
    }
   ],
   "source": [
    "tt"
   ]
  },
  {
   "cell_type": "markdown",
   "metadata": {},
   "source": [
    "# Tuple Assignment"
   ]
  },
  {
   "cell_type": "code",
   "execution_count": 20,
   "metadata": {},
   "outputs": [],
   "source": [
    "a,b=1,2\n",
    "a,b=b,a"
   ]
  },
  {
   "cell_type": "code",
   "execution_count": 21,
   "metadata": {},
   "outputs": [
    {
     "data": {
      "text/plain": [
       "(2, 1)"
      ]
     },
     "execution_count": 21,
     "metadata": {},
     "output_type": "execute_result"
    }
   ],
   "source": [
    "a,b"
   ]
  },
  {
   "cell_type": "code",
   "execution_count": null,
   "metadata": {},
   "outputs": [],
   "source": []
  }
 ],
 "metadata": {
  "kernelspec": {
   "display_name": "Python 3",
   "language": "python",
   "name": "python3"
  },
  "language_info": {
   "codemirror_mode": {
    "name": "ipython",
    "version": 3
   },
   "file_extension": ".py",
   "mimetype": "text/x-python",
   "name": "python",
   "nbconvert_exporter": "python",
   "pygments_lexer": "ipython3",
   "version": "3.7.4"
  }
 },
 "nbformat": 4,
 "nbformat_minor": 2
}
