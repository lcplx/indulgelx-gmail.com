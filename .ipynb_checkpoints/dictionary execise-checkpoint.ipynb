{
 "cells": [
  {
   "cell_type": "code",
   "execution_count": 7,
   "metadata": {},
   "outputs": [],
   "source": [
    "\n",
    "\n",
    "def makelist():\n",
    "    file=open('word.txt')\n",
    "    for x in file:\n",
    "        x=x.strip()\n",
    "        print(x)"
   ]
  },
  {
   "cell_type": "code",
   "execution_count": 8,
   "metadata": {},
   "outputs": [
    {
     "name": "stdout",
     "output_type": "stream",
     "text": [
      "hello\n",
      "sdfd\n",
      "sadgas\n",
      "sadfas\n"
     ]
    }
   ],
   "source": [
    "lst=make_word_list()"
   ]
  },
  {
   "cell_type": "code",
   "execution_count": 57,
   "metadata": {},
   "outputs": [
    {
     "data": {
      "text/plain": [
       "False"
      ]
     },
     "execution_count": 57,
     "metadata": {},
     "output_type": "execute_result"
    }
   ],
   "source": [
    "def make_word_list():\n",
    "    \"\"\"Reads lines from a file and builds a list using append.\n",
    "\n",
    "    returns: list of strings\n",
    "    \"\"\"\n",
    "    word_list = []\n",
    "    fin = open('word.txt')\n",
    "    for line in fin:\n",
    "        word = line.strip()\n",
    "        word_list.append(word)\n",
    "    return word_list\n",
    "\n",
    "\n",
    "def in_bisect(word_list, word):\n",
    "    \"\"\"Checks whether a word is in a list using bisection search.\n",
    "\n",
    "    Precondition: the words in the list are sorted\n",
    "\n",
    "    word_list: list of strings\n",
    "    word: string\n",
    "\n",
    "    returns: True if the word is in the list; False otherwise\n",
    "    \"\"\"\n",
    "    if len(word_list) == 0:\n",
    "        return False\n",
    "\n",
    "    i = len(word_list) // 2\n",
    "    if word_list[i] == word:\n",
    "        return True\n",
    "\n",
    "    if word_list[i] > word:\n",
    "        # search the first half\n",
    "        return in_bisect(word_list[:i], word)\n",
    "    else:\n",
    "        # search the second half\n",
    "        return in_bisect(word_list[i+1:], word)\n",
    "in_bisect(make_word_list(),'hello')"
   ]
  },
  {
   "cell_type": "code",
   "execution_count": 58,
   "metadata": {},
   "outputs": [],
   "source": [
    "def makedic():\n",
    "    d=dict()\n",
    "    file=open('word.txt')\n",
    "    for s in file:\n",
    "        s1=s.strip()# important\n",
    "        print(s,123)\n",
    "        res=s1.split(' ')\n",
    "        print(res)\n",
    "        d[s]=\"\"\n",
    "    return d\n"
   ]
  },
  {
   "cell_type": "code",
   "execution_count": 55,
   "metadata": {},
   "outputs": [
    {
     "name": "stdout",
     "output_type": "stream",
     "text": [
      "If installing using pip install --user, you must add the user-level bin directory to your PATH environment variable in order to launch jupyter lab.\n",
      "['If', 'installing', 'using', 'pip', 'install', '--user,', 'you', 'must', 'add', 'the', 'user-level', 'bin', 'directory', 'to', 'your', 'PATH', 'environment', 'variable', 'in', 'order', 'to', 'launch', 'jupyter', 'lab.']\n",
      "\n",
      "['']\n",
      "Getting started with the classic Jupyter Notebook\n",
      "['Getting', 'started', 'with', 'the', 'classic', 'Jupyter', 'Notebook']\n",
      "Prerequisite: Python\n",
      "['Prerequisite:', 'Python']\n",
      "While Jupyter runs code in many programming languages, Python is a requirement (Python 3.3 or greater, or Python 2.7) for installing the JupyterLab or the classic Jupyter Notebook.\n",
      "['While', 'Jupyter', 'runs', 'code', 'in', 'many', 'programming', 'languages,', 'Python', 'is', 'a', 'requirement', '(Python', '3.3', 'or', 'greater,', 'or', 'Python', '2.7)', 'for', 'installing', 'the', 'JupyterLab', 'or', 'the', 'classic', 'Jupyter', 'Notebook.']\n",
      "\n",
      "['']\n",
      "Installing Jupyter Notebook using Conda\n",
      "['Installing', 'Jupyter', 'Notebook', 'using', 'Conda']\n",
      "conda\n",
      "['conda']\n",
      "We recommend installing Python and Jupyter using the conda package manager. The miniconda distribution includes a minimal Python and conda installation.\n",
      "['We', 'recommend', 'installing', 'Python', 'and', 'Jupyter', 'using', 'the', 'conda', 'package', 'manager.', 'The', 'miniconda', 'distribution', 'includes', 'a', 'minimal', 'Python', 'and', 'conda', 'installation.']\n",
      "\n",
      "['']\n",
      "Then you can install the notebook with:\n",
      "['Then', 'you', 'can', 'install', 'the', 'notebook', 'with:']\n",
      "\n",
      "['']\n",
      "conda install -c conda-forge notebook\n",
      "['conda', 'install', '-c', 'conda-forge', 'notebook']\n",
      "pip\n",
      "['pip']\n",
      "If you use pip, you can install it with:\n",
      "['If', 'you', 'use', 'pip,', 'you', 'can', 'install', 'it', 'with:']\n",
      "\n",
      "['']\n",
      "pip install notebook\n",
      "['pip', 'install', 'notebook']\n",
      "Congratulations, you have installed Jupyter Notebook! To run the notebook, run the following command at the Terminal (Mac/Linux) or Command Prompt (Windows):\n",
      "['Congratulations,', 'you', 'have', 'installed', 'Jupyter', 'Notebook!', 'To', 'run', 'the', 'notebook,', 'run', 'the', 'following', 'command', 'at', 'the', 'Terminal', '(Mac/Linux)', 'or', 'Command', 'Prompt', '(Windows):']\n",
      "\n",
      "['']\n",
      "jupyter notebook\n",
      "['jupyter', 'notebook']\n",
      "See Running the Notebook for more details.\n",
      "['See', 'Running', 'the', 'Notebook', 'for', 'more', 'details.']\n",
      "\n",
      "['']\n",
      "Getting started with Voil脿\n",
      "['Getting', 'started', 'with', 'Voil脿']\n",
      "Installation\n",
      "['Installation']\n",
      "Voil脿 can be installed using conda or pip. For more detailed instructions, consult the installation guide.\n",
      "['Voil脿', 'can', 'be', 'installed', 'using', 'conda', 'or', 'pip.', 'For', 'more', 'detailed', 'instructions,', 'consult', 'the', 'installation', 'guide.']\n",
      "\n",
      "['']\n",
      "conda\n",
      "['conda']\n",
      "{'If installing using pip install --user, you must add the user-level bin directory to your PATH environment variable in order to launch jupyter lab.\\n': '', '\\n': '', 'Getting started with the classic Jupyter Notebook\\n': '', 'Prerequisite: Python\\n': '', 'While Jupyter runs code in many programming languages, Python is a requirement (Python 3.3 or greater, or Python 2.7) for installing the JupyterLab or the classic Jupyter Notebook.\\n': '', 'Installing Jupyter Notebook using Conda\\n': '', 'conda\\n': '', 'We recommend installing Python and Jupyter using the conda package manager. The miniconda distribution includes a minimal Python and conda installation.\\n': '', 'Then you can install the notebook with:\\n': '', 'conda install -c conda-forge notebook\\n': '', 'pip\\n': '', 'If you use pip, you can install it with:\\n': '', 'pip install notebook\\n': '', 'Congratulations, you have installed Jupyter Notebook! To run the notebook, run the following command at the Terminal (Mac/Linux) or Command Prompt (Windows):\\n': '', 'jupyter notebook\\n': '', 'See Running the Notebook for more details.\\n': '', 'Getting started with Voil脿\\n': '', 'Installation\\n': '', 'Voil脿 can be installed using conda or pip. For more detailed instructions, consult the installation guide.\\n': '', 'conda': ''}\n",
      "0.0\n",
      "['If installing using pip install --user, you must add the user-level bin directory to your PATH environment variable in order to launch jupyter lab.', '', 'Getting started with the classic Jupyter Notebook', 'Prerequisite: Python', 'While Jupyter runs code in many programming languages, Python is a requirement (Python 3.3 or greater, or Python 2.7) for installing the JupyterLab or the classic Jupyter Notebook.', '', 'Installing Jupyter Notebook using Conda', 'conda', 'We recommend installing Python and Jupyter using the conda package manager. The miniconda distribution includes a minimal Python and conda installation.', '', 'Then you can install the notebook with:', '', 'conda install -c conda-forge notebook', 'pip', 'If you use pip, you can install it with:', '', 'pip install notebook', 'Congratulations, you have installed Jupyter Notebook! To run the notebook, run the following command at the Terminal (Mac/Linux) or Command Prompt (Windows):', '', 'jupyter notebook', 'See Running the Notebook for more details.', '', 'Getting started with Voil脿', 'Installation', 'Voil脿 can be installed using conda or pip. For more detailed instructions, consult the installation guide.', '', 'conda']\n",
      "0.000997304916381836\n"
     ]
    }
   ],
   "source": [
    "import time\n",
    "\n",
    "\n",
    "d=makedic()\n",
    "print(d)\n",
    "start=time.time()\n",
    "\"hello\" in d\n",
    "end=time.time()\n",
    "\n",
    "print(end-start)\n",
    "lst=make_word_list()\n",
    "\n",
    "start1=time.time()\n",
    "print(lst)\n",
    "in_bisect(lst,'hello')\n",
    "end1=time.time()\n",
    "print(end1-start1)\n",
    "\n"
   ]
  },
  {
   "cell_type": "code",
   "execution_count": 34,
   "metadata": {
    "scrolled": false
   },
   "outputs": [
    {
     "name": "stdout",
     "output_type": "stream",
     "text": [
      "0.0\n"
     ]
    }
   ],
   "source": []
  },
  {
   "cell_type": "code",
   "execution_count": 32,
   "metadata": {},
   "outputs": [
    {
     "data": {
      "text/plain": [
       "<module 'time' (built-in)>"
      ]
     },
     "execution_count": 32,
     "metadata": {},
     "output_type": "execute_result"
    }
   ],
   "source": [
    "time"
   ]
  },
  {
   "cell_type": "code",
   "execution_count": null,
   "metadata": {},
   "outputs": [],
   "source": []
  }
 ],
 "metadata": {
  "kernelspec": {
   "display_name": "Python 3",
   "language": "python",
   "name": "python3"
  },
  "language_info": {
   "codemirror_mode": {
    "name": "ipython",
    "version": 3
   },
   "file_extension": ".py",
   "mimetype": "text/x-python",
   "name": "python",
   "nbconvert_exporter": "python",
   "pygments_lexer": "ipython3",
   "version": "3.7.4"
  }
 },
 "nbformat": 4,
 "nbformat_minor": 2
}
