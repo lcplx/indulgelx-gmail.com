{
 "cells": [
  {
   "cell_type": "code",
   "execution_count": 3,
   "metadata": {},
   "outputs": [],
   "source": [
    "# origianl invert dictionary from learning journal 7\n",
    "def invert_dict(d):\n",
    "     inverse = dict()\n",
    "     for key in d:\n",
    "          val = tuple(d[key]) # list is not hashable so change to tuple for key\n",
    "          for sub in val: # loop again since sub is list item\n",
    "              if sub not in inverse:\n",
    "                   inverse[sub] = key\n",
    "              else:\n",
    "                   inverse[sub].append(key)\n",
    "     return inverse \n",
    "\n",
    "# read txt file into dictionary\n",
    "def readtext():\n",
    "    d={}\n",
    "    with open('dictionary.txt','r') as fin:\n",
    "        for line in fin:\n",
    "            key,value=line.strip().split(':')\n",
    "            d[key]=list(value.split(','))\n",
    "        return d\n",
    "# read new dictionary to new file\n",
    "def writetext(d,filename):\n",
    "    with open (filename,'w') as fout:\n",
    "        for key,value in d.items():\n",
    "            tmp='%s:%s\\n'%(key,value)\n",
    "            fout.write(tmp)\n",
    "            \n",
    "def test():\n",
    "    inverted=invert_dict(readtext())\n",
    "    writetext(inverted,'dictionary_copy.txt')    \n",
    "test()\n",
    "\n"
   ]
  },
  {
   "cell_type": "code",
   "execution_count": 2,
   "metadata": {},
   "outputs": [],
   "source": [
    "\n",
    "\n",
    "# nclude the following in your Learning Journal submission: \n",
    "\n",
    "The input file for your original dictionary (with at least six items).\n",
    "The Python program to read from a file, invert the dictionary, and write to a different file.\n",
    "The output file for your inverted dictionary.\n",
    "# A description of how you chose to encode the original dictionary and the inverted dictionary in text files.\n"
   ]
  },
  {
   "cell_type": "code",
   "execution_count": null,
   "metadata": {},
   "outputs": [],
   "source": []
  }
 ],
 "metadata": {
  "kernelspec": {
   "display_name": "Python 3",
   "language": "python",
   "name": "python3"
  },
  "language_info": {
   "codemirror_mode": {
    "name": "ipython",
    "version": 3
   },
   "file_extension": ".py",
   "mimetype": "text/x-python",
   "name": "python",
   "nbconvert_exporter": "python",
   "pygments_lexer": "ipython3",
   "version": "3.7.4"
  }
 },
 "nbformat": 4,
 "nbformat_minor": 2
}
